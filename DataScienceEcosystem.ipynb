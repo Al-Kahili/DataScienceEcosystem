{
 "cells": [
  {
   "cell_type": "markdown",
   "id": "3b047ef7-23a2-4202-ab5f-beb4c1f42d9a",
   "metadata": {},
   "source": [
    "# DataScienceEcosystem"
   ]
  },
  {
   "cell_type": "markdown",
   "id": "19d6fbb4-a964-4cf8-9fb2-2da5429331d7",
   "metadata": {},
   "source": [
    "In this notebook, Data Science Tools and Ecosystem are summarized."
   ]
  },
  {
   "cell_type": "markdown",
   "id": "a592639f-9536-4e7e-b14a-15dc6aa296a3",
   "metadata": {},
   "source": [
    "**Objectives**:\n",
    "+ list popular languages\n",
    "+ list popular libraries\n",
    "+ do simple arathimtic expressions"
   ]
  },
  {
   "cell_type": "markdown",
   "id": "5258a195-a293-4dca-afa1-d6e1c21f4771",
   "metadata": {},
   "source": [
    "#### Some of the popular languages that Data Scientists use are:\n",
    "1. **python**\n",
    "2. **R**\n",
    "3. **sql** "
   ]
  },
  {
   "cell_type": "markdown",
   "id": "60927c0e-2b5c-4109-9c67-d4c0c63c31a6",
   "metadata": {},
   "source": [
    "#### Some of the commonly used libraries used by Data Scientists include:\n",
    "1. **numpy**\n",
    "2. **pandas**\n",
    "3. **tensorFlow**"
   ]
  },
  {
   "cell_type": "markdown",
   "id": "ebba972b-3f12-49c7-8759-d0a9e82d2e0a",
   "metadata": {},
   "source": [
    "|Data Science Tools|\n",
    "|------------------|\n",
    "|jupyter notebook|\n",
    "|jupyterlab|\n",
    "|RStudio|\n"
   ]
  },
  {
   "cell_type": "markdown",
   "id": "a2275913-304c-4e0e-a780-f49702004466",
   "metadata": {},
   "source": [
    "### Below are a few examples of evaluating arithmetic expressions in Python"
   ]
  },
  {
   "cell_type": "code",
   "execution_count": 71,
   "id": "02d73056-f20c-4fee-8ddc-d1de8fb1fa5b",
   "metadata": {},
   "outputs": [
    {
     "data": {
      "text/plain": [
       "17"
      ]
     },
     "execution_count": 71,
     "metadata": {},
     "output_type": "execute_result"
    }
   ],
   "source": [
    "#This a simple arithmetic expression to mutiply then add integers\n",
    "(3*4)+5"
   ]
  },
  {
   "cell_type": "code",
   "execution_count": 64,
   "id": "e7fa9c61-b02f-453c-accc-7b094a4a1dd9",
   "metadata": {},
   "outputs": [
    {
     "data": {
      "text/plain": [
       "3.3333333333333335"
      ]
     },
     "execution_count": 64,
     "metadata": {},
     "output_type": "execute_result"
    }
   ],
   "source": [
    "#This will convert 200 minutes to hours by diving by 60\n",
    "(200/60)\n",
    "\n"
   ]
  },
  {
   "cell_type": "markdown",
   "id": "f5b506be-6fdd-48d6-85a2-55ae337f6071",
   "metadata": {},
   "source": [
    "## author\n",
    "Al-Kahili"
   ]
  },
  {
   "cell_type": "code",
   "execution_count": null,
   "id": "67453115-0017-4b53-bbd4-9b2ebef0c5f3",
   "metadata": {},
   "outputs": [],
   "source": []
  }
 ],
 "metadata": {
  "kernelspec": {
   "display_name": "Python 3 (ipykernel)",
   "language": "python",
   "name": "python3"
  },
  "language_info": {
   "codemirror_mode": {
    "name": "ipython",
    "version": 3
   },
   "file_extension": ".py",
   "mimetype": "text/x-python",
   "name": "python",
   "nbconvert_exporter": "python",
   "pygments_lexer": "ipython3",
   "version": "3.12.4"
  }
 },
 "nbformat": 4,
 "nbformat_minor": 5
}
